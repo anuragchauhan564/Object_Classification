{
  "nbformat": 4,
  "nbformat_minor": 0,
  "metadata": {
    "colab": {
      "provenance": [],
      "gpuType": "T4"
    },
    "kernelspec": {
      "name": "python3",
      "display_name": "Python 3"
    },
    "language_info": {
      "name": "python"
    },
    "accelerator": "GPU"
  },
  "cells": [
    {
      "cell_type": "code",
      "execution_count": 1,
      "metadata": {
        "colab": {
          "base_uri": "https://localhost:8080/"
        },
        "id": "a0iTSMxHoFSF",
        "outputId": "16fa8ab7-b50c-41b5-e2d0-bbbed59fb745"
      },
      "outputs": [
        {
          "output_type": "stream",
          "name": "stdout",
          "text": [
            "Tue Mar  5 17:21:41 2024       \n",
            "+---------------------------------------------------------------------------------------+\n",
            "| NVIDIA-SMI 535.104.05             Driver Version: 535.104.05   CUDA Version: 12.2     |\n",
            "|-----------------------------------------+----------------------+----------------------+\n",
            "| GPU  Name                 Persistence-M | Bus-Id        Disp.A | Volatile Uncorr. ECC |\n",
            "| Fan  Temp   Perf          Pwr:Usage/Cap |         Memory-Usage | GPU-Util  Compute M. |\n",
            "|                                         |                      |               MIG M. |\n",
            "|=========================================+======================+======================|\n",
            "|   0  Tesla T4                       Off | 00000000:00:04.0 Off |                    0 |\n",
            "| N/A   55C    P8              10W /  70W |      0MiB / 15360MiB |      0%      Default |\n",
            "|                                         |                      |                  N/A |\n",
            "+-----------------------------------------+----------------------+----------------------+\n",
            "                                                                                         \n",
            "+---------------------------------------------------------------------------------------+\n",
            "| Processes:                                                                            |\n",
            "|  GPU   GI   CI        PID   Type   Process name                            GPU Memory |\n",
            "|        ID   ID                                                             Usage      |\n",
            "|=======================================================================================|\n",
            "|  No running processes found                                                           |\n",
            "+---------------------------------------------------------------------------------------+\n"
          ]
        }
      ],
      "source": [
        "!nvidia-smi"
      ]
    },
    {
      "cell_type": "code",
      "source": [
        "import tensorflow as tf\n",
        "print(tf.__version__)"
      ],
      "metadata": {
        "colab": {
          "base_uri": "https://localhost:8080/"
        },
        "id": "5lTh2MIsokqq",
        "outputId": "853f9727-78e7-4957-f57f-50e6b11f4e21"
      },
      "execution_count": 2,
      "outputs": [
        {
          "output_type": "stream",
          "name": "stdout",
          "text": [
            "2.15.0\n"
          ]
        }
      ]
    },
    {
      "cell_type": "code",
      "source": [
        "## Import the libraries as shown below\n",
        "\n",
        "from tensorflow.keras.layers import Input, Lambda, Dense,Flatten\n",
        "from tensorflow.keras.models import Model\n",
        "from tensorflow.keras.applications.vgg16 import VGG16\n",
        "from tensorflow.keras.preprocessing import image\n",
        "from tensorflow.keras.preprocessing.image import ImageDataGenerator, load_img\n",
        "from tensorflow.keras.models import Sequential\n",
        "import numpy as np\n",
        "from glob import glob"
      ],
      "metadata": {
        "id": "aJhUDl1KoyaI"
      },
      "execution_count": 7,
      "outputs": []
    },
    {
      "cell_type": "code",
      "source": [
        "from google.colab import drive\n",
        "drive.mount('/content/drive')"
      ],
      "metadata": {
        "colab": {
          "base_uri": "https://localhost:8080/"
        },
        "id": "CwsuF3VHqBN0",
        "outputId": "a7cd0d60-e87e-4ef2-b14e-91778ec1a2a5"
      },
      "execution_count": 10,
      "outputs": [
        {
          "output_type": "stream",
          "name": "stdout",
          "text": [
            "Mounted at /content/drive\n"
          ]
        }
      ]
    },
    {
      "cell_type": "code",
      "source": [
        "ROOT_PATH = '/content/drive/MyDrive'"
      ],
      "metadata": {
        "id": "GyhAouSqqjX3"
      },
      "execution_count": 11,
      "outputs": []
    },
    {
      "cell_type": "code",
      "source": [
        "!pwd"
      ],
      "metadata": {
        "colab": {
          "base_uri": "https://localhost:8080/"
        },
        "id": "je30P2j1rDWy",
        "outputId": "efa29fba-c668-4b5b-d81c-bb488d329f3e"
      },
      "execution_count": 12,
      "outputs": [
        {
          "output_type": "stream",
          "name": "stdout",
          "text": [
            "/content\n"
          ]
        }
      ]
    },
    {
      "cell_type": "code",
      "source": [
        "import os\n",
        "os.chdir(ROOT_PATH)\n",
        "os.getcwd()"
      ],
      "metadata": {
        "colab": {
          "base_uri": "https://localhost:8080/",
          "height": 35
        },
        "id": "XLh3o8NCrFqp",
        "outputId": "a47bebec-d292-4d72-fb73-1fbbacfc2933"
      },
      "execution_count": 13,
      "outputs": [
        {
          "output_type": "execute_result",
          "data": {
            "text/plain": [
              "'/content/drive/MyDrive'"
            ],
            "application/vnd.google.colaboratory.intrinsic+json": {
              "type": "string"
            }
          },
          "metadata": {},
          "execution_count": 13
        }
      ]
    },
    {
      "cell_type": "code",
      "source": [
        "## re-size the images to this\n",
        "\n",
        "IMAGE_SIZE =[224,224]\n",
        "train_path = 'cat_dog_dataset/train'\n",
        "valid_path = 'cat_dog_dataset/test'"
      ],
      "metadata": {
        "id": "xH_OS00frRP0"
      },
      "execution_count": 30,
      "outputs": []
    },
    {
      "cell_type": "code",
      "source": [
        "# Impoer the VGG16 library as show below and add preprocessing layer to the front of VGG\n",
        "# Here  we will be using imagenet weight\n",
        "vgg16 = VGG16(input_shape =IMAGE_SIZE +[3], weights = 'imagenet',include_top=False)"
      ],
      "metadata": {
        "id": "u-uz5pfzrTbo"
      },
      "execution_count": 31,
      "outputs": []
    },
    {
      "cell_type": "code",
      "source": [
        "# don't train existing weights\n",
        "for layer in vgg16.layers:\n",
        "  print(layer)"
      ],
      "metadata": {
        "colab": {
          "base_uri": "https://localhost:8080/"
        },
        "id": "NBKWalX3s5f4",
        "outputId": "998e047f-87fb-4d72-ce2c-e2b66849d8e2"
      },
      "execution_count": 32,
      "outputs": [
        {
          "output_type": "stream",
          "name": "stdout",
          "text": [
            "<keras.src.engine.input_layer.InputLayer object at 0x7e8dd0c291e0>\n",
            "<keras.src.layers.convolutional.conv2d.Conv2D object at 0x7e8dcf77afb0>\n",
            "<keras.src.layers.convolutional.conv2d.Conv2D object at 0x7e8dd0c29f90>\n",
            "<keras.src.layers.pooling.max_pooling2d.MaxPooling2D object at 0x7e8dcf778c40>\n",
            "<keras.src.layers.convolutional.conv2d.Conv2D object at 0x7e8dd0c29cf0>\n",
            "<keras.src.layers.convolutional.conv2d.Conv2D object at 0x7e8dcf779990>\n",
            "<keras.src.layers.pooling.max_pooling2d.MaxPooling2D object at 0x7e8dcf778c70>\n",
            "<keras.src.layers.convolutional.conv2d.Conv2D object at 0x7e8dcf77ba90>\n",
            "<keras.src.layers.convolutional.conv2d.Conv2D object at 0x7e8dcf77b7c0>\n",
            "<keras.src.layers.convolutional.conv2d.Conv2D object at 0x7e8dcf74b8e0>\n",
            "<keras.src.layers.pooling.max_pooling2d.MaxPooling2D object at 0x7e8dcf749db0>\n",
            "<keras.src.layers.convolutional.conv2d.Conv2D object at 0x7e8dcf77a020>\n",
            "<keras.src.layers.convolutional.conv2d.Conv2D object at 0x7e8dcf778340>\n",
            "<keras.src.layers.convolutional.conv2d.Conv2D object at 0x7e8dd010d1e0>\n",
            "<keras.src.layers.pooling.max_pooling2d.MaxPooling2D object at 0x7e8dd010efb0>\n",
            "<keras.src.layers.convolutional.conv2d.Conv2D object at 0x7e8dd010fac0>\n",
            "<keras.src.layers.convolutional.conv2d.Conv2D object at 0x7e8dd010d480>\n",
            "<keras.src.layers.convolutional.conv2d.Conv2D object at 0x7e8dcf789210>\n",
            "<keras.src.layers.pooling.max_pooling2d.MaxPooling2D object at 0x7e8dcf78a6e0>\n"
          ]
        }
      ]
    },
    {
      "cell_type": "code",
      "source": [
        "# dont't train existing weights\n",
        "for layer in vgg16.layers:\n",
        "  layer.trainable =False"
      ],
      "metadata": {
        "id": "8csx2V4ItHQL"
      },
      "execution_count": 33,
      "outputs": []
    },
    {
      "cell_type": "code",
      "source": [
        "for layer in vgg16.layers:\n",
        "  print(layer.name, layer.trainable)"
      ],
      "metadata": {
        "colab": {
          "base_uri": "https://localhost:8080/"
        },
        "id": "DaTLZAq-tiOx",
        "outputId": "8ba23353-afda-4209-acaa-3f19f1552f25"
      },
      "execution_count": 34,
      "outputs": [
        {
          "output_type": "stream",
          "name": "stdout",
          "text": [
            "input_2 False\n",
            "block1_conv1 False\n",
            "block1_conv2 False\n",
            "block1_pool False\n",
            "block2_conv1 False\n",
            "block2_conv2 False\n",
            "block2_pool False\n",
            "block3_conv1 False\n",
            "block3_conv2 False\n",
            "block3_conv3 False\n",
            "block3_pool False\n",
            "block4_conv1 False\n",
            "block4_conv2 False\n",
            "block4_conv3 False\n",
            "block4_pool False\n",
            "block5_conv1 False\n",
            "block5_conv2 False\n",
            "block5_conv3 False\n",
            "block5_pool False\n"
          ]
        }
      ]
    },
    {
      "cell_type": "code",
      "source": [
        "vgg16.summary()"
      ],
      "metadata": {
        "colab": {
          "base_uri": "https://localhost:8080/"
        },
        "id": "k8mPVRIZttRv",
        "outputId": "bb47db4e-8c04-40e0-e239-747413420d54"
      },
      "execution_count": 35,
      "outputs": [
        {
          "output_type": "stream",
          "name": "stdout",
          "text": [
            "Model: \"vgg16\"\n",
            "_________________________________________________________________\n",
            " Layer (type)                Output Shape              Param #   \n",
            "=================================================================\n",
            " input_2 (InputLayer)        [(None, 224, 224, 3)]     0         \n",
            "                                                                 \n",
            " block1_conv1 (Conv2D)       (None, 224, 224, 64)      1792      \n",
            "                                                                 \n",
            " block1_conv2 (Conv2D)       (None, 224, 224, 64)      36928     \n",
            "                                                                 \n",
            " block1_pool (MaxPooling2D)  (None, 112, 112, 64)      0         \n",
            "                                                                 \n",
            " block2_conv1 (Conv2D)       (None, 112, 112, 128)     73856     \n",
            "                                                                 \n",
            " block2_conv2 (Conv2D)       (None, 112, 112, 128)     147584    \n",
            "                                                                 \n",
            " block2_pool (MaxPooling2D)  (None, 56, 56, 128)       0         \n",
            "                                                                 \n",
            " block3_conv1 (Conv2D)       (None, 56, 56, 256)       295168    \n",
            "                                                                 \n",
            " block3_conv2 (Conv2D)       (None, 56, 56, 256)       590080    \n",
            "                                                                 \n",
            " block3_conv3 (Conv2D)       (None, 56, 56, 256)       590080    \n",
            "                                                                 \n",
            " block3_pool (MaxPooling2D)  (None, 28, 28, 256)       0         \n",
            "                                                                 \n",
            " block4_conv1 (Conv2D)       (None, 28, 28, 512)       1180160   \n",
            "                                                                 \n",
            " block4_conv2 (Conv2D)       (None, 28, 28, 512)       2359808   \n",
            "                                                                 \n",
            " block4_conv3 (Conv2D)       (None, 28, 28, 512)       2359808   \n",
            "                                                                 \n",
            " block4_pool (MaxPooling2D)  (None, 14, 14, 512)       0         \n",
            "                                                                 \n",
            " block5_conv1 (Conv2D)       (None, 14, 14, 512)       2359808   \n",
            "                                                                 \n",
            " block5_conv2 (Conv2D)       (None, 14, 14, 512)       2359808   \n",
            "                                                                 \n",
            " block5_conv3 (Conv2D)       (None, 14, 14, 512)       2359808   \n",
            "                                                                 \n",
            " block5_pool (MaxPooling2D)  (None, 7, 7, 512)         0         \n",
            "                                                                 \n",
            "=================================================================\n",
            "Total params: 14714688 (56.13 MB)\n",
            "Trainable params: 0 (0.00 Byte)\n",
            "Non-trainable params: 14714688 (56.13 MB)\n",
            "_________________________________________________________________\n"
          ]
        }
      ]
    },
    {
      "cell_type": "code",
      "source": [
        "# useful for getting unmber of output classes\n",
        "folders = glob('cat_dog_dataset/train/*')"
      ],
      "metadata": {
        "id": "ZL1ZoHsEt9_A"
      },
      "execution_count": 36,
      "outputs": []
    },
    {
      "cell_type": "code",
      "source": [
        "folders"
      ],
      "metadata": {
        "colab": {
          "base_uri": "https://localhost:8080/"
        },
        "id": "r8PeDv-suSYj",
        "outputId": "d6046add-bbbb-46b0-e01b-59a040170606"
      },
      "execution_count": 37,
      "outputs": [
        {
          "output_type": "execute_result",
          "data": {
            "text/plain": [
              "['cat_dog_dataset/train/cats', 'cat_dog_dataset/train/dogs']"
            ]
          },
          "metadata": {},
          "execution_count": 37
        }
      ]
    },
    {
      "cell_type": "code",
      "source": [
        "len(folders)"
      ],
      "metadata": {
        "colab": {
          "base_uri": "https://localhost:8080/"
        },
        "id": "PlI4e1uLuUM_",
        "outputId": "ec4795cc-74d3-4362-9065-d0b58f4f7c2d"
      },
      "execution_count": 38,
      "outputs": [
        {
          "output_type": "execute_result",
          "data": {
            "text/plain": [
              "2"
            ]
          },
          "metadata": {},
          "execution_count": 38
        }
      ]
    },
    {
      "cell_type": "code",
      "source": [
        "model = Sequential()\n",
        "model.add(vgg16)\n",
        "model.add(Flatten())\n",
        "model.add(Dense(256, activation='relu'))\n",
        "model.add(Dense(2, activation='softmax'))"
      ],
      "metadata": {
        "id": "F4-Km-CYufTn"
      },
      "execution_count": 39,
      "outputs": []
    },
    {
      "cell_type": "code",
      "source": [
        "# viwe Summary of the model\n",
        "model.summary()"
      ],
      "metadata": {
        "colab": {
          "base_uri": "https://localhost:8080/"
        },
        "id": "LwSDor52u5FD",
        "outputId": "fdabd3f9-f884-44ba-e229-cddfe04e3066"
      },
      "execution_count": 40,
      "outputs": [
        {
          "output_type": "stream",
          "name": "stdout",
          "text": [
            "Model: \"sequential_3\"\n",
            "_________________________________________________________________\n",
            " Layer (type)                Output Shape              Param #   \n",
            "=================================================================\n",
            " vgg16 (Functional)          (None, 7, 7, 512)         14714688  \n",
            "                                                                 \n",
            " flatten_3 (Flatten)         (None, 25088)             0         \n",
            "                                                                 \n",
            " dense_3 (Dense)             (None, 256)               6422784   \n",
            "                                                                 \n",
            " dense_4 (Dense)             (None, 2)                 514       \n",
            "                                                                 \n",
            "=================================================================\n",
            "Total params: 21137986 (80.64 MB)\n",
            "Trainable params: 6423298 (24.50 MB)\n",
            "Non-trainable params: 14714688 (56.13 MB)\n",
            "_________________________________________________________________\n"
          ]
        }
      ]
    },
    {
      "cell_type": "code",
      "source": [
        "# tell the model what cost and optimization method to use\n",
        "model.compile(\n",
        "    loss = 'categorical_crossentropy',\n",
        "    optimizer = 'adam',\n",
        "    metrics = ['accuracy']\n",
        ")"
      ],
      "metadata": {
        "id": "ElwDfIcbvJMp"
      },
      "execution_count": 41,
      "outputs": []
    },
    {
      "cell_type": "code",
      "source": [
        "# Use the Image data Generate to import the image from the dataset\n",
        "from tensorflow.keras.preprocessing.image import ImageDataGenerator\n",
        "\n",
        "train_datagen = ImageDataGenerator(rescale=1./255,\n",
        "                                   shear_range =0.2,\n",
        "                                   zoom_range=0.2,\n",
        "                                   horizontal_flip =True)\n",
        "test_datagen = ImageDataGenerator(rescale= 1./225)"
      ],
      "metadata": {
        "id": "pny-U4pvwDZi"
      },
      "execution_count": 44,
      "outputs": []
    },
    {
      "cell_type": "code",
      "source": [
        "!pwd"
      ],
      "metadata": {
        "colab": {
          "base_uri": "https://localhost:8080/"
        },
        "id": "Dh31-Sf3w-SZ",
        "outputId": "62e25870-e62d-4b6c-9f6a-f357ce59a6f1"
      },
      "execution_count": 45,
      "outputs": [
        {
          "output_type": "stream",
          "name": "stdout",
          "text": [
            "/content/drive/MyDrive\n"
          ]
        }
      ]
    },
    {
      "cell_type": "code",
      "source": [
        "# Make sure your provide the same target size as intialied for the image size\n",
        "training_set = train_datagen.flow_from_directory('cat_dog_dataset/train',\n",
        "                                                 target_size = (224,224),\n",
        "                                                 batch_size = 32,\n",
        "                                                 class_mode = 'categorical')"
      ],
      "metadata": {
        "colab": {
          "base_uri": "https://localhost:8080/"
        },
        "id": "GtBUx-w3xMCT",
        "outputId": "f3359f3b-dd80-4fe5-cb66-97a25ca644e4"
      },
      "execution_count": 48,
      "outputs": [
        {
          "output_type": "stream",
          "name": "stdout",
          "text": [
            "Found 557 images belonging to 2 classes.\n"
          ]
        }
      ]
    },
    {
      "cell_type": "code",
      "source": [
        "test_set = train_datagen.flow_from_directory('cat_dog_dataset/test',\n",
        "                                                 target_size = (224,224),\n",
        "                                                 batch_size = 32,\n",
        "                                                 class_mode = 'categorical')"
      ],
      "metadata": {
        "colab": {
          "base_uri": "https://localhost:8080/"
        },
        "id": "iNKOHh-Fx5mB",
        "outputId": "49912e13-5255-4eb0-a82c-b2fe08511bbd"
      },
      "execution_count": 50,
      "outputs": [
        {
          "output_type": "stream",
          "name": "stdout",
          "text": [
            "Found 140 images belonging to 2 classes.\n"
          ]
        }
      ]
    },
    {
      "cell_type": "code",
      "source": [
        "# fit the model\n",
        "r = model.fit(\n",
        "    training_set,\n",
        "    validation_data = test_set,\n",
        "    epochs =15,\n",
        "    steps_per_epoch = len(training_set),\n",
        "    validation_steps = len(test_set)\n",
        ")"
      ],
      "metadata": {
        "colab": {
          "base_uri": "https://localhost:8080/"
        },
        "id": "KteVK91lyTjc",
        "outputId": "8b76a39d-2478-4b72-a3c8-f1ed063ccf43"
      },
      "execution_count": 51,
      "outputs": [
        {
          "output_type": "stream",
          "name": "stdout",
          "text": [
            "Epoch 1/15\n",
            "5/5 [==============================] - 79s 17s/step - loss: 6.2319 - accuracy: 0.4714 - val_loss: 3.1838 - val_accuracy: 0.5000\n",
            "Epoch 2/15\n",
            "5/5 [==============================] - 6s 1s/step - loss: 1.8743 - accuracy: 0.5143 - val_loss: 0.6100 - val_accuracy: 0.7071\n",
            "Epoch 3/15\n",
            "5/5 [==============================] - 7s 1s/step - loss: 0.6470 - accuracy: 0.6929 - val_loss: 0.3425 - val_accuracy: 0.8143\n",
            "Epoch 4/15\n",
            "5/5 [==============================] - 6s 1s/step - loss: 0.4058 - accuracy: 0.8071 - val_loss: 0.3043 - val_accuracy: 0.8571\n",
            "Epoch 5/15\n",
            "5/5 [==============================] - 7s 1s/step - loss: 0.2727 - accuracy: 0.8786 - val_loss: 0.3229 - val_accuracy: 0.8500\n",
            "Epoch 6/15\n",
            "5/5 [==============================] - 5s 1s/step - loss: 0.2796 - accuracy: 0.8643 - val_loss: 0.2595 - val_accuracy: 0.8929\n",
            "Epoch 7/15\n",
            "5/5 [==============================] - 7s 1s/step - loss: 0.1691 - accuracy: 0.9357 - val_loss: 0.1423 - val_accuracy: 0.9357\n",
            "Epoch 8/15\n",
            "5/5 [==============================] - 6s 1s/step - loss: 0.1559 - accuracy: 0.9429 - val_loss: 0.1284 - val_accuracy: 0.9571\n",
            "Epoch 9/15\n",
            "5/5 [==============================] - 7s 1s/step - loss: 0.1201 - accuracy: 0.9286 - val_loss: 0.0785 - val_accuracy: 0.9857\n",
            "Epoch 10/15\n",
            "5/5 [==============================] - 7s 2s/step - loss: 0.1192 - accuracy: 0.9571 - val_loss: 0.0594 - val_accuracy: 1.0000\n",
            "Epoch 11/15\n",
            "5/5 [==============================] - 5s 1s/step - loss: 0.0597 - accuracy: 0.9786 - val_loss: 0.0532 - val_accuracy: 0.9929\n",
            "Epoch 12/15\n",
            "5/5 [==============================] - 6s 1s/step - loss: 0.0531 - accuracy: 0.9929 - val_loss: 0.0448 - val_accuracy: 1.0000\n",
            "Epoch 13/15\n",
            "5/5 [==============================] - 5s 1s/step - loss: 0.0483 - accuracy: 0.9929 - val_loss: 0.0347 - val_accuracy: 1.0000\n",
            "Epoch 14/15\n",
            "5/5 [==============================] - 5s 1s/step - loss: 0.0395 - accuracy: 1.0000 - val_loss: 0.0290 - val_accuracy: 1.0000\n",
            "Epoch 15/15\n",
            "5/5 [==============================] - 7s 1s/step - loss: 0.0329 - accuracy: 1.0000 - val_loss: 0.0421 - val_accuracy: 0.9929\n"
          ]
        }
      ]
    },
    {
      "cell_type": "code",
      "source": [
        "import matplotlib.pyplot as plt\n"
      ],
      "metadata": {
        "id": "KbRswwF_y8Vg"
      },
      "execution_count": 52,
      "outputs": []
    },
    {
      "cell_type": "code",
      "source": [
        "# plot the loss\n",
        "plt.plot(r.history['loss'], label = 'train_loss')\n",
        "plt.plot(r.history['val_loss'], label = 'val_loss')\n",
        "plt.legend()\n",
        "plt.show()\n",
        "plt.savefig('lossVal_loss')"
      ],
      "metadata": {
        "colab": {
          "base_uri": "https://localhost:8080/",
          "height": 447
        },
        "id": "nA735mER3Qy8",
        "outputId": "a5f86e99-acbb-4ce1-a36e-3d203b237a72"
      },
      "execution_count": 56,
      "outputs": [
        {
          "output_type": "display_data",
          "data": {
            "text/plain": [
              "<Figure size 640x480 with 1 Axes>"
            ],
            "image/png": "[encoded data removed]"
          },
          "metadata": {}
        },
        {
          "output_type": "display_data",
          "data": {
            "text/plain": [
              "<Figure size 640x480 with 0 Axes>"
            ]
          },
          "metadata": {}
        }
      ]
    },
    {
      "cell_type": "code",
      "source": [
        "# plot the loss\n",
        "plt.plot(r.history['accuracy'], label = 'train_acc')\n",
        "plt.plot(r.history['val_accuracy'], label = 'val_acc')\n",
        "plt.legend()\n",
        "plt.show()\n",
        "plt.savefig('AccVal_loss')"
      ],
      "metadata": {
        "colab": {
          "base_uri": "https://localhost:8080/",
          "height": 447
        },
        "id": "RK1uxxZ833nh",
        "outputId": "a30785b3-d090-48ac-d9ba-424a5486c6c9"
      },
      "execution_count": 57,
      "outputs": [
        {
          "output_type": "display_data",
          "data": {
            "text/plain": [
              "<Figure size 640x480 with 1 Axes>"
            ],
            "image/png": "[encoded data removed]"
          },
          "metadata": {}
        },
        {
          "output_type": "display_data",
          "data": {
            "text/plain": [
              "<Figure size 640x480 with 0 Axes>"
            ]
          },
          "metadata": {}
        }
      ]
    },
    {
      "cell_type": "code",
      "source": [
        "# save it as a h5 file\n",
        "from tensorflow.keras.models import load_model\n",
        "\n",
        "model.save('model_vgg16.h5')"
      ],
      "metadata": {
        "colab": {
          "base_uri": "https://localhost:8080/"
        },
        "id": "Uh3WRMfW4jPK",
        "outputId": "8d561103-6da8-4d9f-e648-39d94b09c841"
      },
      "execution_count": 58,
      "outputs": [
        {
          "output_type": "stream",
          "name": "stderr",
          "text": [
            "/usr/local/lib/python3.10/dist-packages/keras/src/engine/training.py:3103: UserWarning: You are saving your model as an HDF5 file via `model.save()`. This file format is considered legacy. We recommend using instead the native Keras format, e.g. `model.save('my_model.keras')`.\n",
            "  saving_api.save_model(\n"
          ]
        }
      ]
    },
    {
      "cell_type": "code",
      "source": [
        "y_pred = model.predict(test_set)"
      ],
      "metadata": {
        "colab": {
          "base_uri": "https://localhost:8080/"
        },
        "id": "hNyWYRfc5K7C",
        "outputId": "e9555339-cf87-42f8-ee8a-d99dccac5e32"
      },
      "execution_count": 59,
      "outputs": [
        {
          "output_type": "stream",
          "name": "stdout",
          "text": [
            "5/5 [==============================] - 3s 644ms/step\n"
          ]
        }
      ]
    },
    {
      "cell_type": "code",
      "source": [
        "y_pred"
      ],
      "metadata": {
        "colab": {
          "base_uri": "https://localhost:8080/"
        },
        "id": "GznvHGfy5au8",
        "outputId": "7c9bdac6-16bd-4046-b9a9-761a716f2659"
      },
      "execution_count": 60,
      "outputs": [
        {
          "output_type": "execute_result",
          "data": {
            "text/plain": [
              "array([[2.52275349e-05, 9.99974728e-01],\n",
              "       [2.94607179e-03, 9.97053981e-01],\n",
              "       [7.47543156e-01, 2.52456814e-01],\n",
              "       [1.21443961e-02, 9.87855613e-01],\n",
              "       [8.48580241e-01, 1.51419789e-01],\n",
              "       [8.28957825e-04, 9.99171019e-01],\n",
              "       [6.26802212e-03, 9.93731916e-01],\n",
              "       [3.54799815e-03, 9.96451974e-01],\n",
              "       [9.75095272e-01, 2.49047745e-02],\n",
              "       [8.32295060e-01, 1.67704955e-01],\n",
              "       [9.33272123e-01, 6.67278916e-02],\n",
              "       [9.85993862e-01, 1.40061015e-02],\n",
              "       [9.93135571e-01, 6.86446391e-03],\n",
              "       [9.96476591e-01, 3.52341356e-03],\n",
              "       [2.72802566e-03, 9.97271955e-01],\n",
              "       [2.17438140e-03, 9.97825563e-01],\n",
              "       [9.39967856e-02, 9.06003237e-01],\n",
              "       [7.87140310e-01, 2.12859645e-01],\n",
              "       [1.02938623e-06, 9.99998927e-01],\n",
              "       [9.31463728e-04, 9.99068558e-01],\n",
              "       [9.99786556e-01, 2.13493913e-04],\n",
              "       [9.25961975e-03, 9.90740418e-01],\n",
              "       [1.38751008e-02, 9.86124933e-01],\n",
              "       [9.96065199e-01, 3.93481832e-03],\n",
              "       [9.76244330e-01, 2.37556286e-02],\n",
              "       [9.40220535e-01, 5.97794913e-02],\n",
              "       [2.16485845e-04, 9.99783576e-01],\n",
              "       [9.93897736e-01, 6.10226300e-03],\n",
              "       [9.67446446e-01, 3.25535908e-02],\n",
              "       [9.98689327e-04, 9.99001324e-01],\n",
              "       [9.99912143e-01, 8.78886931e-05],\n",
              "       [9.44993496e-01, 5.50065450e-02],\n",
              "       [9.92584159e-04, 9.99007404e-01],\n",
              "       [8.80890548e-01, 1.19109459e-01],\n",
              "       [1.00121712e-02, 9.89987791e-01],\n",
              "       [9.85632539e-01, 1.43674798e-02],\n",
              "       [4.83348444e-02, 9.51665223e-01],\n",
              "       [1.01936869e-02, 9.89806354e-01],\n",
              "       [1.03340605e-02, 9.89665866e-01],\n",
              "       [9.88982260e-01, 1.10177221e-02],\n",
              "       [9.99951959e-01, 4.80533563e-05],\n",
              "       [1.29060796e-03, 9.98709440e-01],\n",
              "       [9.68164742e-01, 3.18352990e-02],\n",
              "       [1.14106499e-02, 9.88589406e-01],\n",
              "       [1.43288181e-03, 9.98567104e-01],\n",
              "       [9.30181742e-01, 6.98182136e-02],\n",
              "       [9.84455585e-01, 1.55443931e-02],\n",
              "       [1.19116995e-02, 9.88088310e-01],\n",
              "       [9.93678868e-01, 6.32116897e-03],\n",
              "       [4.50279303e-02, 9.54972029e-01],\n",
              "       [9.64717805e-01, 3.52822281e-02],\n",
              "       [1.40293241e-01, 8.59706819e-01],\n",
              "       [4.49717138e-03, 9.95502889e-01],\n",
              "       [4.11065631e-02, 9.58893478e-01],\n",
              "       [3.96387419e-03, 9.96036112e-01],\n",
              "       [9.99918461e-01, 8.15006715e-05],\n",
              "       [9.95094299e-01, 4.90572490e-03],\n",
              "       [9.85777199e-01, 1.42228138e-02],\n",
              "       [1.45493839e-02, 9.85450625e-01],\n",
              "       [8.81952167e-01, 1.18047811e-01],\n",
              "       [8.83521978e-03, 9.91164744e-01],\n",
              "       [9.63124990e-01, 3.68749537e-02],\n",
              "       [9.90616143e-01, 9.38378647e-03],\n",
              "       [9.90475476e-01, 9.52453259e-03],\n",
              "       [9.98765469e-01, 1.23452325e-03],\n",
              "       [9.29462910e-03, 9.90705431e-01],\n",
              "       [9.99911666e-01, 8.83141183e-05],\n",
              "       [5.49938180e-04, 9.99450028e-01],\n",
              "       [3.80778685e-04, 9.99619246e-01],\n",
              "       [1.70612857e-05, 9.99982953e-01],\n",
              "       [1.46700088e-02, 9.85329986e-01],\n",
              "       [3.14611301e-04, 9.99685407e-01],\n",
              "       [9.52790558e-01, 4.72094119e-02],\n",
              "       [9.81832623e-01, 1.81673951e-02],\n",
              "       [9.83916819e-01, 1.60831977e-02],\n",
              "       [9.98097837e-01, 1.90218166e-03],\n",
              "       [7.60236057e-03, 9.92397606e-01],\n",
              "       [9.61331904e-01, 3.86680700e-02],\n",
              "       [3.76108428e-03, 9.96238947e-01],\n",
              "       [8.84623826e-01, 1.15376145e-01],\n",
              "       [8.78317654e-01, 1.21682324e-01],\n",
              "       [7.47730434e-02, 9.25226927e-01],\n",
              "       [9.71297264e-01, 2.87027378e-02],\n",
              "       [9.51153159e-01, 4.88467664e-02],\n",
              "       [9.61000383e-01, 3.89996096e-02],\n",
              "       [9.60201979e-01, 3.97979580e-02],\n",
              "       [1.01502324e-02, 9.89849806e-01],\n",
              "       [1.28742820e-02, 9.87125695e-01],\n",
              "       [9.99707878e-01, 2.92155339e-04],\n",
              "       [1.00770919e-02, 9.89922941e-01],\n",
              "       [9.98492599e-01, 1.50742999e-03],\n",
              "       [1.23594673e-02, 9.87640560e-01],\n",
              "       [9.81559098e-01, 1.84409749e-02],\n",
              "       [8.45337272e-01, 1.54662788e-01],\n",
              "       [1.75128162e-01, 8.24871898e-01],\n",
              "       [9.86651540e-01, 1.33484649e-02],\n",
              "       [5.36990911e-02, 9.46300864e-01],\n",
              "       [5.51625679e-04, 9.99448359e-01],\n",
              "       [9.90800560e-01, 9.19941999e-03],\n",
              "       [3.18622403e-03, 9.96813834e-01],\n",
              "       [4.53901337e-03, 9.95460927e-01],\n",
              "       [5.09907841e-04, 9.99490023e-01],\n",
              "       [9.98771131e-01, 1.22889783e-03],\n",
              "       [1.36170052e-02, 9.86382961e-01],\n",
              "       [9.99037385e-01, 9.62596736e-04],\n",
              "       [9.91518438e-01, 8.48160125e-03],\n",
              "       [3.37055011e-04, 9.99662995e-01],\n",
              "       [9.51314688e-01, 4.86853160e-02],\n",
              "       [9.81347203e-01, 1.86527353e-02],\n",
              "       [9.92226005e-02, 9.00777340e-01],\n",
              "       [1.63624845e-02, 9.83637512e-01],\n",
              "       [9.95036900e-01, 4.96310741e-03],\n",
              "       [9.90371525e-01, 9.62851383e-03],\n",
              "       [9.76241827e-01, 2.37581208e-02],\n",
              "       [4.54485752e-02, 9.54551399e-01],\n",
              "       [9.95997906e-01, 4.00206959e-03],\n",
              "       [7.82773830e-03, 9.92172241e-01],\n",
              "       [9.42350645e-03, 9.90576506e-01],\n",
              "       [9.98470366e-01, 1.52959325e-03],\n",
              "       [6.33091293e-03, 9.93669093e-01],\n",
              "       [4.85052355e-03, 9.95149553e-01],\n",
              "       [1.61720626e-02, 9.83827949e-01],\n",
              "       [9.80968952e-01, 1.90309882e-02],\n",
              "       [7.59472314e-04, 9.99240518e-01],\n",
              "       [9.86833274e-01, 1.31666698e-02],\n",
              "       [8.42036796e-04, 9.99158025e-01],\n",
              "       [2.17138045e-03, 9.97828662e-01],\n",
              "       [6.89345300e-02, 9.31065500e-01],\n",
              "       [8.78897965e-01, 1.21102020e-01],\n",
              "       [9.99990344e-01, 9.61458773e-06],\n",
              "       [2.10782955e-03, 9.97892201e-01],\n",
              "       [2.17792913e-02, 9.78220642e-01],\n",
              "       [1.29112583e-02, 9.87088740e-01],\n",
              "       [9.53314066e-01, 4.66858819e-02],\n",
              "       [8.90611947e-01, 1.09388009e-01],\n",
              "       [9.99588788e-01, 4.11212503e-04],\n",
              "       [1.15752071e-02, 9.88424778e-01],\n",
              "       [9.56634462e-01, 4.33655009e-02],\n",
              "       [4.04333323e-02, 9.59566712e-01],\n",
              "       [1.76901445e-02, 9.82309878e-01]], dtype=float32)"
            ]
          },
          "metadata": {},
          "execution_count": 60
        }
      ]
    },
    {
      "cell_type": "code",
      "source": [],
      "metadata": {
        "id": "fw6Kuxbp5gW2"
      },
      "execution_count": null,
      "outputs": []
    }
  ]
}